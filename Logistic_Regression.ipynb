{
  "nbformat": 4,
  "nbformat_minor": 0,
  "metadata": {
    "colab": {
      "provenance": []
    },
    "kernelspec": {
      "name": "python3",
      "display_name": "Python 3"
    },
    "language_info": {
      "name": "python"
    }
  },
  "cells": [
    {
      "cell_type": "markdown",
      "source": [
        "**THEORETICAL QUESTIONS**"
      ],
      "metadata": {
        "id": "K0UZrpdn163k"
      }
    },
    {
      "cell_type": "markdown",
      "source": [
        "1/ What is Logistic Regression, and how does it differ from Linear Regression.\n",
        "\n",
        "- Logistic Regression is a statistical method used for binary classification problems, where the outcome variable is categorical with two possible values (e.g., 0 or 1, yes or no, true or false). It's a type of generalized linear model that uses a logistic function to predict the probability of the outcome.\n",
        "\n",
        "How does it differ from Linear Regression?\n",
        "\n",
        "Outcome Variable: Linear Regression is used to predict a continuous outcome variable, while Logistic Regression is used to predict a categorical outcome variable with two possible values.\n",
        "Model: Linear Regression uses a linear equation to model the relationship between the independent and dependent variables, while Logistic Regression uses a logistic function to model the relationship.\n",
        "Prediction: Linear Regression predicts the value of the outcome variable, while Logistic Regression predicts the probability of the outcome belonging to a particular category."
      ],
      "metadata": {
        "id": "5fWmosNB2E3S"
      }
    },
    {
      "cell_type": "markdown",
      "source": [
        "2/  What is the mathematical equation of Logistic Regression\n",
        "\n",
        "- p = 1 / (1 + exp(-(β0 + β1x1 + β2x2 + ... + βnxn)))"
      ],
      "metadata": {
        "id": "eGPYg7MU2XKG"
      }
    },
    {
      "cell_type": "markdown",
      "source": [
        "3/  Why do we use the Sigmoid function in Logistic Regression.\n",
        "\n",
        "- Probability Output: The Sigmoid function outputs a value between 0 and 1, which is ideal for representing probabilities. In Logistic Regression, we want to predict the probability of an outcome belonging to a particular class (e.g., the probability of a customer churning or not). The Sigmoid function ensures that our predictions are always within the valid range of probabilities.\n",
        "\n",
        "S-Shaped Curve: The Sigmoid function has a characteristic \"S\" shape. This shape is useful for modeling the relationship between the independent variables and the probability of the outcome. As the value of the independent variable increases, the probability of the outcome also increases, but at a decreasing rate. This reflects the fact that probabilities cannot exceed 1.\n",
        "\n",
        "Differentiability: The Sigmoid function is differentiable, which is important for model training. Logistic Regression uses gradient descent to find the optimal values for the model's coefficients. Gradient descent requires the function to be differentiable so that it can calculate the gradient (slope) of the function and update the coefficients accordingly.\n",
        "\n"
      ],
      "metadata": {
        "id": "kRgkQNvV2jI3"
      }
    },
    {
      "cell_type": "markdown",
      "source": [
        "4/What is the cost function of Logistic Regression.\n",
        "\n",
        "- The cost function in Logistic Regression is called the Log Loss or Cross-Entropy Loss. It measures the difference between the predicted probabilities and the actual outcomes. The goal of Logistic Regression is to find the model parameters (coefficients) that minimize this cost function."
      ],
      "metadata": {
        "id": "u6kx8d4u25s4"
      }
    },
    {
      "cell_type": "markdown",
      "source": [
        "5/ What is Regularization in Logistic Regression? Why is it needed.\n",
        "\n",
        "- Okay, let's discuss Regularization in Logistic Regression:\n",
        "\n",
        "What is Regularization?\n",
        "\n",
        "Regularization is a technique used in machine learning to prevent overfitting. Overfitting occurs when a model learns the training data too well and performs poorly on unseen data. Regularization adds a penalty term to the cost function, discouraging the model from learning overly complex patterns that might only exist in the training data.\n",
        "\n",
        "Why is it needed in Logistic Regression?\n",
        "\n",
        "Prevent Overfitting: As mentioned earlier, regularization helps prevent overfitting by adding a penalty to the cost function for large coefficient values. This encourages the model to find a simpler solution that generalizes better to unseen data.\n",
        "Improve Generalization: By preventing overfitting, regularization improves the model's ability to generalize to new, unseen data, leading to better performance in real-world scenarios.\n",
        "Handle Multicollinearity: Regularization can help handle multicollinearity, which is the presence of highly correlated independent variables in the data. By shrinking the coefficients towards zero, regularization reduces the impact of multicollinearity on the model's performance."
      ],
      "metadata": {
        "id": "0shOdRzQ26Og"
      }
    },
    {
      "cell_type": "markdown",
      "source": [
        "6/Explain the difference between Lasso, Ridge, and Elastic Net regression.\n",
        "\n",
        "- Ridge Regression:\n",
        "\n",
        "Penalty: Adds a penalty proportional to the sum of squared coefficients (L2 penalty).\n",
        "Effect: Shrinks the coefficients towards zero, but doesn't make them exactly zero. This means all features are retained in the model, but their impact is reduced.\n",
        "Use Cases: Useful when there are many correlated features or when you want to keep all features in the model but reduce their influence.\n",
        "\n",
        "2. Lasso Regression:\n",
        "\n",
        "Penalty: Adds a penalty proportional to the sum of absolute values of the coefficients (L1 penalty).\n",
        "Effect: Can shrink some coefficients to exactly zero, effectively performing feature selection. This leads to a sparser model with fewer features.\n",
        "Use Cases: Useful when there are many irrelevant features or when you want to automatically select the most important features.\n",
        "\n",
        "3. Elastic Net Regression:\n",
        "\n",
        "Penalty: Combines both L1 and L2 penalties, using a mixing parameter (α) to control the balance between them.\n",
        "Effect: Can shrink some coefficients to zero (like Lasso) while also shrinking the remaining coefficients (like Ridge).\n",
        "Use Cases: Offers a compromise between Ridge and Lasso, providing benefits of both. Useful when there are many correlated features and some irrelevant features. It can also be more stable than Lasso in certain situations.\n"
      ],
      "metadata": {
        "id": "9ttAM2Tf260q"
      }
    },
    {
      "cell_type": "markdown",
      "source": [
        "7/  When should we use Elastic Net instead of Lasso or Ridge.\n",
        "\n",
        "- Elastic Net is generally preferred over Lasso or Ridge in the following situations:\n",
        "\n",
        "When you have a dataset with many correlated features and some irrelevant features.\n",
        "\n",
        "Elastic Net combines the strengths of both Lasso and Ridge, allowing it to handle both multicollinearity (correlated features) and feature selection (irrelevant features).\n",
        "Lasso might struggle with multicollinearity and select only one feature from a group of correlated features, potentially missing out on important information.\n",
        "Ridge might not perform well in feature selection, as it shrinks all coefficients towards zero but doesn't eliminate any.\n",
        "When the number of features is greater than the number of observations (p > n).\n",
        "\n",
        "In high-dimensional datasets, Lasso might become unstable and select a random subset of features.\n",
        "Elastic Net is more stable in such scenarios and can provide better generalization performance."
      ],
      "metadata": {
        "id": "fzBSiFRr28Kx"
      }
    },
    {
      "cell_type": "markdown",
      "source": [
        "8/What is the impact of the regularization parameter (λ) in Logistic Regression.\n",
        "\n",
        "- Regularization Parameter (λ):\n",
        "\n",
        "The regularization parameter (λ), also known as the regularization strength or penalty parameter, controls the amount of regularization applied to the Logistic Regression model.\n",
        "It is a hyperparameter that needs to be tuned to find the optimal value for a given dataset.\n",
        "\n",
        "Impact of λ:\n",
        "\n",
        "Coefficient Shrinkage: Increasing λ increases the penalty for large coefficient values, leading to greater shrinkage of the coefficients towards zero. This helps prevent overfitting by discouraging the model from learning overly complex patterns in the training data.\n"
      ],
      "metadata": {
        "id": "300qzuiw28ov"
      }
    },
    {
      "cell_type": "markdown",
      "source": [
        "9/ What are the key assumptions of Logistic Regression.\n",
        "\n",
        "- Linearity of the Logit: The relationship between the independent variables and the logit (log-odds) of the outcome should be linear. This means that the log-odds of the outcome should change linearly with changes in the independent variables.\n",
        "\n",
        "Independence of Observations: The observations in the dataset should be independent of each other. This means that the outcome for one observation should not be influenced by the outcomes of other observations.\n",
        "\n",
        "No Multicollinearity: There should be little or no multicollinearity among the independent variables. Multicollinearity occurs when two or more independent variables are highly correlated with each other. It can make the model unstable and difficult to interpret.\n",
        "\n",
        "Large Sample Size: Logistic Regression generally requires a relatively large sample size to produce reliable estimates. The rule of thumb is to have at least 10 observations per independent variable in the model.\n",
        "\n",
        "\n",
        "\n",
        "\n",
        "\n",
        "\n"
      ],
      "metadata": {
        "id": "IxBsNCIX29CX"
      }
    },
    {
      "cell_type": "markdown",
      "source": [
        "10/What are some alternatives to Logistic Regression for classification tasks?\n",
        "\n",
        "- Here are some alternatives to Logistic Regression for classification tasks:\n",
        "\n",
        "Support Vector Machines (SVMs): SVMs are powerful models that can handle both linear and non-linear data. They work by finding the best hyperplane that separates the data into different classes.\n",
        "Decision Trees: Decision trees are tree-like structures that use a series of if-else conditions to classify data. They are easy to interpret and can handle both categorical and numerical data.\n",
        "Random Forests: Random forests are an ensemble method that combines multiple decision trees to improve accuracy and reduce overfitting. They are known for their high performance and robustness.\n",
        "Naive Bayes: Naive Bayes is a probabilistic classifier that uses Bayes' theorem to predict the class of a data point. It is simple to implement and can be effective for text classification and spam filtering.\n",
        "K-Nearest Neighbors (KNN): KNN is a non-parametric method that classifies data points based on the classes of their nearest neighbors. It is easy to understand and can be used for both classification and regression.\n"
      ],
      "metadata": {
        "id": "kc4h_GE929b8"
      }
    },
    {
      "cell_type": "markdown",
      "source": [
        "11/ What are Classification Evaluation Metrics?\n",
        "\n",
        "- Classification evaluation metrics are used to assess the performance of a classification model. Here are some common metrics:\n",
        "\n",
        "Accuracy: The proportion of correctly classified instances.\n",
        "Precision: The proportion of true positive predictions among all positive predictions.\n",
        "Recall (Sensitivity): The proportion of true positive predictions among all actual positive instances.\n",
        "F1-Score: The harmonic mean of precision and recall, providing a balanced measure of performance.\n",
        "ROC AUC: The area under the receiver operating characteristic curve, measuring the model's ability to distinguish between classes.\n",
        "Log Loss: The negative average of the log of the predicted probabilities for the true class, indicating the model's confidence in its predictions."
      ],
      "metadata": {
        "id": "kDjNgjRS2-H1"
      }
    },
    {
      "cell_type": "markdown",
      "source": [
        "12/ How does class imbalance affect Logistic Regression?\n",
        "\n",
        "- Class imbalance occurs when one class has significantly more instances than the other. This can affect Logistic Regression in the following ways:\n",
        "\n",
        "Bias towards Majority Class: The model may become biased towards the majority class and have poor performance on the minority class.\n",
        "Inaccurate Evaluation Metrics: Accuracy can be misleading when there is class imbalance, as a model can achieve high accuracy by simply predicting the majority class for all instances."
      ],
      "metadata": {
        "id": "uUwfYEbf2-jv"
      }
    },
    {
      "cell_type": "markdown",
      "source": [
        "13/ What is Hyperparameter Tuning in Logistic Regression?\n",
        "\n",
        " - Hyperparameter tuning is the process of finding the optimal values for the hyperparameters of a Logistic Regression model. Hyperparameters are settings that are not learned from the data but are set before training. Here are some common hyperparameters for Logistic Regression:\n",
        "\n",
        "Regularization Strength (λ or C): Controls the amount of regularization applied to the model.\n",
        "Penalty: Specifies the type of regularization (L1 or L2).\n",
        "Solver: Determines the algorithm used to optimize the model's parameters."
      ],
      "metadata": {
        "id": "F3gH2MNs5bPS"
      }
    },
    {
      "cell_type": "markdown",
      "source": [
        "14/ What are different solvers in Logistic Regression? Which one should be used?\n",
        "\n",
        "- Logistic Regression in scikit-learn offers several solvers for optimizing the model's parameters. Here are some common solvers:\n",
        "\n",
        "'newton-cg', 'lbfgs', 'sag', 'saga': These solvers are suitable for large datasets and can handle L2 regularization.\n",
        "'liblinear': This solver is efficient for small datasets and supports both L1 and L2 regularization.\n",
        "The choice of solver depends on the size of the dataset, the type of regularization, and the desired performance. For large datasets with L2 regularization, 'sag' or 'saga' are recommended. For small datasets or L1 regularization, 'liblinear' is a good choice."
      ],
      "metadata": {
        "id": "KoXfy3b75btw"
      }
    },
    {
      "cell_type": "markdown",
      "source": [
        "15/ How is Logistic Regression extended for multiclass classification?\n",
        "\n",
        "- Logistic Regression can be extended for multiclass classification using two main approaches:\n",
        "\n",
        "One-vs-Rest (OvR): This approach trains multiple binary classifiers, one for each class, to distinguish that class from all other classes.\n",
        "Multinomial (Softmax Regression): This approach directly models the probabilities of all classes using a softmax function."
      ],
      "metadata": {
        "id": "F3X068kQ5cOv"
      }
    },
    {
      "cell_type": "markdown",
      "source": [
        "16/ What are the advantages and disadvantages of Logistic Regression?\n",
        "\n",
        "-\n",
        "\n",
        "Advantages:\n",
        "\n",
        "Simple and easy to interpret.\n",
        "Efficient to train and predict.\n",
        "Handles both numerical and categorical data.\n",
        "Provides probability estimates for predictions.\n",
        "Can be regularized to prevent overfitting.\n",
        "\n",
        "Disadvantages:\n",
        "\n",
        "Assumes linearity of the logit.\n",
        "Can be sensitive to outliers.\n",
        "May not perform well with complex relationships between features and target.\n",
        "Requires a relatively large sample size."
      ],
      "metadata": {
        "id": "t6qEXt2R5cpZ"
      }
    },
    {
      "cell_type": "markdown",
      "source": [
        "17/ What is the difference between Softmax Regression and Logistic Regression?\n",
        "\n",
        "- Softmax Regression is a generalization of Logistic Regression for multiclass classification. While Logistic Regression is used for binary classification, Softmax Regression can handle multiple classes. Softmax Regression uses a softmax function to predict the probabilities of all classes, while Logistic Regression uses a sigmoid function to predict the probability of a single class."
      ],
      "metadata": {
        "id": "Yk_ux8955dFE"
      }
    },
    {
      "cell_type": "markdown",
      "source": [
        "18/ How do we interpret coefficients in Logistic Regression.\n",
        "\n",
        "- In Logistic Regression, the coefficients represent the change in the log-odds of the outcome variable for a one-unit change in the predictor variable, holding all other variables constant. To make this more interpretable, we often exponentiate the coefficients to obtain odds ratios.\n",
        "\n",
        "Interpreting the Odds Ratios\n",
        "\n",
        "Odds Ratio > 1: Indicates that an increase in the predictor variable is associated with an increase in the odds of the outcome.\n",
        "Odds Ratio < 1: Indicates that an increase in the predictor variable is associated with a decrease in the odds of the outcome.\n",
        "Odds Ratio = 1: Indicates that there is no association between the predictor variable and the outcome.\n",
        "Example:\n",
        "\n",
        "Let's say we have a Logistic Regression model predicting the likelihood of a customer churning (outcome: 1 = churn, 0 = no churn) based on their monthly charges (predictor). If the coefficient for monthly charges is 0.5, the odds ratio would be exp(0.5) ≈ 1.65.\n",
        "\n",
        "Interpretation: This means that for every one-unit increase in monthly charges, the odds of a customer churning increase by a factor of 1.65, or 65%, holding all other variables constant"
      ],
      "metadata": {
        "id": "M7s-OrDuWTsP"
      }
    },
    {
      "cell_type": "markdown",
      "source": [
        "**PRACTICAL QUESTIONS**"
      ],
      "metadata": {
        "id": "U8hjkkEm6ZTK"
      }
    },
    {
      "cell_type": "code",
      "source": [
        "!pip install pandas scikit-learn"
      ],
      "metadata": {
        "colab": {
          "base_uri": "https://localhost:8080/"
        },
        "id": "qiidwP4ZjEZ6",
        "outputId": "f2b160b0-de87-464a-e84d-a1df1b8b387a"
      },
      "execution_count": null,
      "outputs": [
        {
          "output_type": "stream",
          "name": "stdout",
          "text": [
            "Requirement already satisfied: pandas in /usr/local/lib/python3.11/dist-packages (2.2.2)\n",
            "Requirement already satisfied: scikit-learn in /usr/local/lib/python3.11/dist-packages (1.6.1)\n",
            "Requirement already satisfied: numpy>=1.23.2 in /usr/local/lib/python3.11/dist-packages (from pandas) (1.26.4)\n",
            "Requirement already satisfied: python-dateutil>=2.8.2 in /usr/local/lib/python3.11/dist-packages (from pandas) (2.8.2)\n",
            "Requirement already satisfied: pytz>=2020.1 in /usr/local/lib/python3.11/dist-packages (from pandas) (2025.1)\n",
            "Requirement already satisfied: tzdata>=2022.7 in /usr/local/lib/python3.11/dist-packages (from pandas) (2025.1)\n",
            "Requirement already satisfied: scipy>=1.6.0 in /usr/local/lib/python3.11/dist-packages (from scikit-learn) (1.13.1)\n",
            "Requirement already satisfied: joblib>=1.2.0 in /usr/local/lib/python3.11/dist-packages (from scikit-learn) (1.4.2)\n",
            "Requirement already satisfied: threadpoolctl>=3.1.0 in /usr/local/lib/python3.11/dist-packages (from scikit-learn) (3.5.0)\n",
            "Requirement already satisfied: six>=1.5 in /usr/local/lib/python3.11/dist-packages (from python-dateutil>=2.8.2->pandas) (1.17.0)\n"
          ]
        }
      ]
    },
    {
      "cell_type": "code",
      "source": [
        "import pandas as pd\n",
        "data = pd.read_csv('/content/drive/MyDrive/Copy of People Data.csv')\n",
        "print(data)"
      ],
      "metadata": {
        "colab": {
          "base_uri": "https://localhost:8080/"
        },
        "id": "zY3fsYZNoFS4",
        "outputId": "7ff9a73a-b65e-4e5a-973b-937d8ffa5e5c"
      },
      "execution_count": null,
      "outputs": [
        {
          "output_type": "stream",
          "name": "stdout",
          "text": [
            "     Index          User Id First Name Last Name  Gender  \\\n",
            "0        1  8717bbf45cCDbEe     Shelia   Mahoney    Male   \n",
            "1        2  3d5AD30A4cD38ed         Jo    Rivers  Female   \n",
            "2        3  810Ce0F276Badec     Sheryl    Lowery  Female   \n",
            "3        4  BF2a889C00f0cE1    Whitney    Hooper    Male   \n",
            "4        5  9afFEafAe1CBBB9    Lindsey      Rice  Female   \n",
            "..     ...              ...        ...       ...     ...   \n",
            "995    996  fedF4c7Fd9e7cFa       Kurt    Bryant  Female   \n",
            "996    997  ECddaFEDdEc4FAB      Donna     Barry  Female   \n",
            "997    998  2adde51d8B8979E      Cathy  Mckinney  Female   \n",
            "998    999  Fb2FE369D1E171A   Jermaine    Phelps    Male   \n",
            "999   1000  8b756f6231DDC6e        Lee      Tran  Female   \n",
            "\n",
            "                             Email                  Phone Date of birth  \\\n",
            "0              pwarner@example.org           857.139.8239    27-01-2014   \n",
            "1    fergusonkatherine@example.net                    NaN    26-07-1931   \n",
            "2              fhoward@example.org          (599)782-0605    25-11-2013   \n",
            "3            zjohnston@example.com                    NaN    17-11-2012   \n",
            "4                 elin@example.net     (390)417-1635x3010    15-04-1923   \n",
            "..                             ...                    ...           ...   \n",
            "995         lyonsdaisy@example.net           021.775.2933    05-01-1959   \n",
            "996        dariusbryan@example.com   001-149-710-7799x721    06-10-2001   \n",
            "997         georgechan@example.org  +1-750-774-4128x33265    13-05-1918   \n",
            "998            wanda04@example.net          (915)292-2254    31-08-1971   \n",
            "999        deannablack@example.org     079.752.5424x67259    24-01-1947   \n",
            "\n",
            "                           Job Title  Salary  \n",
            "0                  Probation officer   90000  \n",
            "1                             Dancer   80000  \n",
            "2                               Copy   50000  \n",
            "3           Counselling psychologist   65000  \n",
            "4                Biomedical engineer  100000  \n",
            "..                               ...     ...  \n",
            "995                Personnel officer   90000  \n",
            "996          Education administrator   50000  \n",
            "997  Commercial/residential surveyor   60000  \n",
            "998                 Ambulance person  100000  \n",
            "999       Nurse, learning disability   90000  \n",
            "\n",
            "[1000 rows x 10 columns]\n"
          ]
        }
      ]
    },
    {
      "cell_type": "code",
      "source": [],
      "metadata": {
        "id": "FhjPin4kn9Lw"
      },
      "execution_count": null,
      "outputs": []
    },
    {
      "cell_type": "markdown",
      "source": [
        "1/ Write a Python program to train a Logistic Regression model and visualize the confusion matrix for binary\n",
        "classification"
      ],
      "metadata": {
        "id": "l5puvf_2MglE"
      }
    },
    {
      "cell_type": "code",
      "source": [
        "import pandas as pd\n",
        "from sklearn.model_selection import train_test_split\n",
        "from sklearn.linear_model import LogisticRegression\n",
        "from sklearn.metrics import confusion_matrix, accuracy_score\n",
        "import matplotlib.pyplot as plt\n",
        "import seaborn as sns\n",
        "from sklearn.preprocessing import LabelEncoder\n",
        "\n",
        "\n",
        "data = pd.read_csv('/content/drive/MyDrive/Copy of People Data.csv')\n",
        "\n",
        "\n",
        "X = data.drop('Salary', axis=1)\n",
        "y = data['Salary']\n",
        "\n",
        "\n",
        "label_encoder = LabelEncoder()\n",
        "\n",
        "# Iterate through columns and encode string columns\n",
        "for col in X.columns:\n",
        "    if X[col].dtype == 'object':\n",
        "        X[col] = label_encoder.fit_transform(X[col])\n",
        "\n",
        "\n",
        "X_train, X_test, y_train, y_test = train_test_split(X, y, test_size=0.2, random_state=42)\n",
        "\n",
        "\n",
        "model = LogisticRegression(solver='liblinear')\n",
        "\n",
        "model.fit(X_train, y_train)\n",
        "\n",
        "y_pred = model.predict(X_test)\n",
        "\n",
        "accuracy = accuracy_score(y_test, y_pred)\n",
        "print(f\"Accuracy: {accuracy}\")\n",
        "\n",
        "\n",
        "cm = confusion_matrix(y_test, y_pred)\n",
        "\n",
        "# Visualize confusion matrix using seaborn heatmap\n",
        "plt.figure(figsize=(8, 6))\n",
        "sns.heatmap(cm, annot=True, fmt=\"d\", cmap=\"Blues\", xticklabels=['Predicted 0', 'Predicted 1'], yticklabels=['Actual 0', 'Actual 1'])\n",
        "plt.title(\"Confusion Matrix\")\n",
        "plt.xlabel(\"Predicted Label\")\n",
        "plt.ylabel(\"True Label\")\n",
        "plt.show()"
      ],
      "metadata": {
        "colab": {
          "base_uri": "https://localhost:8080/",
          "height": 646
        },
        "id": "i8CGhKHnMgCK",
        "outputId": "a9cc08ae-22ee-49fc-da93-6840d3fbec15"
      },
      "execution_count": null,
      "outputs": [
        {
          "output_type": "stream",
          "name": "stdout",
          "text": [
            "Accuracy: 0.135\n"
          ]
        },
        {
          "output_type": "display_data",
          "data": {
            "text/plain": [
              "<Figure size 800x600 with 2 Axes>"
            ],
            "image/png": "[encoded data removed]"
          },
          "metadata": {}
        }
      ]
    },
    {
      "cell_type": "markdown",
      "source": [
        "2/ Write a Python program to implement One-vs-One (OvO) Multiclass Logistic Regression and print accuracy."
      ],
      "metadata": {
        "id": "TT_lTLm_L4ZZ"
      }
    },
    {
      "cell_type": "code",
      "source": [
        "import pandas as pd\n",
        "from sklearn.model_selection import train_test_split\n",
        "from sklearn.linear_model import LogisticRegression\n",
        "from sklearn.multiclass import OneVsOneClassifier\n",
        "from sklearn.metrics import accuracy_score\n",
        "from sklearn.preprocessing import LabelEncoder\n",
        "\n",
        "\n",
        "data = pd.read_csv('/content/drive/MyDrive/Copy of People Data.csv')\n",
        "\n",
        "X = data.drop('Salary', axis=1)\n",
        "y = data['Salary']\n",
        "\n",
        "label_encoder = LabelEncoder()\n",
        "\n",
        "for col in X.columns:\n",
        "    if X[col].dtype == 'object':\n",
        "        X[col] = label_encoder.fit_transform(X[col])\n",
        "\n",
        "\n",
        "X_train, X_test, y_train, y_test = train_test_split(X, y, test_size=0.2, random_state=42)\n",
        "\n",
        "\n",
        "base_model = LogisticRegression(solver='liblinear')\n",
        "\n",
        "\n",
        "ovo_classifier = OneVsOneClassifier(base_model)\n",
        "\n",
        "\n",
        "ovo_classifier.fit(X_train, y_train)\n",
        "\n",
        "y_pred = ovo_classifier.predict(X_test)\n",
        "\n",
        "accuracy = accuracy_score(y_test, y_pred)\n",
        "print(f\"Accuracy: {accuracy}\")"
      ],
      "metadata": {
        "colab": {
          "base_uri": "https://localhost:8080/"
        },
        "id": "nNpRYmpUMT6S",
        "outputId": "190ab83d-3e7c-4b23-9ac9-cc59ac074cca"
      },
      "execution_count": null,
      "outputs": [
        {
          "output_type": "stream",
          "name": "stdout",
          "text": [
            "Accuracy: 0.11\n"
          ]
        }
      ]
    },
    {
      "cell_type": "markdown",
      "source": [
        "3/ Write a Python program to train Logistic Regression with L2 regularization (Ridge) using\n",
        "LogisticRegression(penalty='l2'). Print model accuracy and coefficients"
      ],
      "metadata": {
        "id": "eJ1w6KPKnKNk"
      }
    },
    {
      "cell_type": "code",
      "source": [
        "import pandas as pd\n",
        "from sklearn.model_selection import train_test_split\n",
        "from sklearn.linear_model import LogisticRegression\n",
        "from sklearn.metrics import accuracy_score\n",
        "from sklearn.preprocessing import LabelEncoder\n",
        "\n",
        "data = pd.read_csv('/content/drive/MyDrive/Copy of People Data.csv')\n",
        "\n",
        "X = data.drop('Salary', axis=1)\n",
        "y = data['Salary']\n",
        "\n",
        "label_encoder = LabelEncoder()\n",
        "\n",
        "for col in X.columns:\n",
        "    if X[col].dtype == 'object':\n",
        "        X[col] = label_encoder.fit_transform(X[col])\n",
        "\n",
        "X_train, X_test, y_train, y_test = train_test_split(X, y, test_size=0.2, random_state=42)\n",
        "\n",
        "model = LogisticRegression(penalty='l2', solver='liblinear')\n",
        "\n",
        "model.fit(X_train, y_train)\n",
        "\n",
        "y_pred = model.predict(X_test)\n",
        "\n",
        "accuracy = accuracy_score(y_test, y_pred)\n",
        "print(f\"Accuracy: {accuracy}\")\n",
        "\n",
        "print(\"Coefficients:\", model.coef_)"
      ],
      "metadata": {
        "colab": {
          "base_uri": "https://localhost:8080/"
        },
        "id": "VCfdvhV2uFut",
        "outputId": "ff80c2b5-70ca-425e-eebc-1de63a9d9794"
      },
      "execution_count": null,
      "outputs": [
        {
          "output_type": "stream",
          "name": "stdout",
          "text": [
            "Accuracy: 0.135\n",
            "Coefficients: [[-2.65305760e-05  2.24278098e-05 -1.10998339e-04 -5.07767453e-04\n",
            "   7.71733069e-02 -3.29872013e-04  3.74015892e-04 -1.87053814e-04\n",
            "   5.22043328e-04]\n",
            " [-1.83972024e-04 -4.85260855e-05  6.94952547e-04  7.27378429e-05\n",
            "   5.54380776e-02 -2.14819154e-04 -4.98750784e-04 -2.47918996e-04\n",
            "  -2.16362736e-03]\n",
            " [-4.12324571e-04 -5.73143216e-04 -1.24923758e-03 -1.24109754e-03\n",
            "   4.44565455e-01 -2.33626771e-05 -1.45972746e-05 -6.12785116e-04\n",
            "   6.35453057e-04]\n",
            " [-4.92444158e-04  8.91948577e-04 -3.62631688e-04 -2.98362020e-04\n",
            "  -1.54577256e-01 -8.48433093e-05  4.89802993e-05  6.76654122e-05\n",
            "  -1.60487515e-03]\n",
            " [ 2.31481143e-04 -6.93053829e-05 -5.50297182e-04 -3.06628432e-04\n",
            "  -8.79121817e-02 -1.92485777e-04 -2.25185006e-04  6.28784909e-06\n",
            "  -4.70284313e-05]\n",
            " [ 2.11937421e-05 -1.78563508e-04 -4.68962711e-04  2.07918362e-04\n",
            "  -1.73645095e-01 -1.81232314e-04  2.93236107e-05  7.03084197e-05\n",
            "  -3.64519104e-06]\n",
            " [-2.48769726e-04 -5.92992113e-04 -2.66590678e-04  6.59014019e-04\n",
            "  -3.71461674e-01  3.11553772e-04 -9.60965543e-04  8.79990595e-04\n",
            "   4.79348702e-04]\n",
            " [-8.89364394e-05  3.26271677e-05  3.50289281e-04 -1.55081020e-04\n",
            "   4.00522258e-02 -7.41352589e-05  2.91932590e-04 -8.94671945e-04\n",
            "   4.01414383e-04]]\n"
          ]
        }
      ]
    },
    {
      "cell_type": "markdown",
      "source": [
        "4/ Write a Python program to train Logistic Regression with Elastic Net Regularization (penalty='elasticnet')."
      ],
      "metadata": {
        "id": "1ZIr5BNxHpNf"
      }
    },
    {
      "cell_type": "code",
      "source": [
        "import pandas as pd\n",
        "from sklearn.model_selection import train_test_split\n",
        "from sklearn.linear_model import LogisticRegression\n",
        "from sklearn.metrics import accuracy_score\n",
        "from sklearn.preprocessing import LabelEncoder\n",
        "\n",
        "\n",
        "data = pd.read_csv('/content/drive/MyDrive/Copy of People Data.csv')\n",
        "\n",
        "X = data.drop('Salary', axis=1)\n",
        "y = data['Salary']\n",
        "\n",
        "label_encoder = LabelEncoder()\n",
        "\n",
        "for col in X.columns:\n",
        "    if X[col].dtype == 'object':\n",
        "        X[col] = label_encoder.fit_transform(X[col])\n",
        "\n",
        "\n",
        "X_train, X_test, y_train, y_test = train_test_split(X, y, test_size=0.2, random_state=42)\n",
        "\n",
        "\n",
        "model = LogisticRegression(penalty='elasticnet', solver='saga', l1_ratio=0.5)\n",
        "\n",
        "\n",
        "model.fit(X_train, y_train)\n",
        "\n",
        "y_pred = model.predict(X_test)\n",
        "\n",
        "\n",
        "accuracy = accuracy_score(y_test, y_pred)\n",
        "print(f\"Accuracy: {accuracy}\")\n",
        "\n",
        "print(\"Coefficients:\", model.coef_)"
      ],
      "metadata": {
        "colab": {
          "base_uri": "https://localhost:8080/"
        },
        "id": "uwKegpdmHKhv",
        "outputId": "a1403478-cef7-4195-f831-17c6024e673a"
      },
      "execution_count": null,
      "outputs": [
        {
          "output_type": "stream",
          "name": "stdout",
          "text": [
            "Accuracy: 0.15\n",
            "Coefficients: [[ 5.98036139e-05  4.39878686e-05  7.90875827e-05 -2.90405645e-04\n",
            "   1.01052903e-04 -2.23399402e-04  3.95714176e-04 -9.17571017e-05\n",
            "   5.95598648e-04]\n",
            " [ 1.05398244e-04  1.03365588e-04  1.08162844e-03  4.55354517e-04\n",
            "   1.17219650e-04  2.24870940e-05 -2.21560774e-04  6.71145632e-06\n",
            "  -1.54032987e-03]\n",
            " [-8.05535337e-05 -3.70209279e-04 -5.32089112e-04 -5.78550987e-04\n",
            "   4.76727279e-04  2.36810388e-04  2.87385951e-04 -2.67312396e-04\n",
            "   1.08678380e-03]\n",
            " [-3.92958832e-04  8.13162724e-04 -2.74155620e-04 -2.51342042e-04\n",
            "  -9.61263988e-05 -7.20924005e-05  4.57731597e-05  6.06461005e-05\n",
            "  -1.42238633e-03]\n",
            " [ 3.22471895e-04 -1.49963654e-05 -2.93491498e-04 -1.21949502e-04\n",
            "  -5.02424632e-05 -9.40189036e-05 -1.21346847e-04  8.58997958e-05\n",
            "   1.18606911e-04]\n",
            " [ 1.42738760e-04 -1.05285574e-04 -2.20937869e-04  3.10755272e-04\n",
            "  -1.53070586e-04 -8.13961129e-05  9.77574054e-05  1.34550183e-04\n",
            "   1.56748686e-04]\n",
            " [-1.42621639e-04 -5.10767028e-04 -2.27105981e-04  5.54187342e-04\n",
            "  -3.61484923e-04  2.83630202e-04 -8.36236889e-04  7.67553004e-04\n",
            "   4.56547775e-04]\n",
            " [-1.47069002e-05  4.12412807e-05  4.32931962e-04 -3.35877266e-05\n",
            "   0.00000000e+00 -2.76765217e-05  3.08520136e-04 -7.39579949e-04\n",
            "   4.57757502e-04]]\n"
          ]
        },
        {
          "output_type": "stream",
          "name": "stderr",
          "text": [
            "/usr/local/lib/python3.11/dist-packages/sklearn/linear_model/_sag.py:348: ConvergenceWarning: The max_iter was reached which means the coef_ did not converge\n",
            "  warnings.warn(\n"
          ]
        }
      ]
    },
    {
      "cell_type": "markdown",
      "source": [
        "5/ Write a Python program to train a Logistic Regression model for multiclass classification using\n",
        "multi_class='ovr'"
      ],
      "metadata": {
        "id": "INElRHBDJUiI"
      }
    },
    {
      "cell_type": "code",
      "source": [
        "import pandas as pd\n",
        "from sklearn.model_selection import train_test_split\n",
        "from sklearn.linear_model import LogisticRegression\n",
        "from sklearn.metrics import accuracy_score\n",
        "from sklearn.preprocessing import LabelEncoder\n",
        "\n",
        "\n",
        "data = pd.read_csv('/content/drive/MyDrive/Copy of People Data.csv')\n",
        "\n",
        "X = data.drop('Salary', axis=1)\n",
        "y = data['Salary']\n",
        "\n",
        "label_encoder = LabelEncoder()\n",
        "\n",
        "for col in X.columns:\n",
        "    if X[col].dtype == 'object':\n",
        "        X[col] = label_encoder.fit_transform(X[col])\n",
        "\n",
        "\n",
        "X_train, X_test, y_train, y_test = train_test_split(X, y, test_size=0.2, random_state=42)\n",
        "\n",
        "model = LogisticRegression(multi_class='ovr', solver='liblinear')\n",
        "\n",
        "\n",
        "model.fit(X_train, y_train)\n",
        "\n",
        "y_pred = model.predict(X_test)\n",
        "\n",
        "accuracy = accuracy_score(y_test, y_pred)\n",
        "print(f\"Accuracy: {accuracy}\")\n",
        "\n",
        "print(\"Coefficients:\", model.coef_)"
      ],
      "metadata": {
        "colab": {
          "base_uri": "https://localhost:8080/"
        },
        "id": "xZxxV0j4JEBo",
        "outputId": "d89f67ad-2791-4b37-d134-a2261e7e52bb"
      },
      "execution_count": null,
      "outputs": [
        {
          "output_type": "stream",
          "name": "stdout",
          "text": [
            "Accuracy: 0.135\n",
            "Coefficients: [[-2.65305760e-05  2.24278098e-05 -1.10998339e-04 -5.07767453e-04\n",
            "   7.71733069e-02 -3.29872013e-04  3.74015892e-04 -1.87053814e-04\n",
            "   5.22043328e-04]\n",
            " [-1.83972024e-04 -4.85260855e-05  6.94952547e-04  7.27378429e-05\n",
            "   5.54380776e-02 -2.14819154e-04 -4.98750784e-04 -2.47918996e-04\n",
            "  -2.16362736e-03]\n",
            " [-4.12324571e-04 -5.73143216e-04 -1.24923758e-03 -1.24109754e-03\n",
            "   4.44565455e-01 -2.33626771e-05 -1.45972746e-05 -6.12785116e-04\n",
            "   6.35453057e-04]\n",
            " [-4.92444158e-04  8.91948577e-04 -3.62631688e-04 -2.98362020e-04\n",
            "  -1.54577256e-01 -8.48433093e-05  4.89802993e-05  6.76654122e-05\n",
            "  -1.60487515e-03]\n",
            " [ 2.31481143e-04 -6.93053829e-05 -5.50297182e-04 -3.06628432e-04\n",
            "  -8.79121817e-02 -1.92485777e-04 -2.25185006e-04  6.28784909e-06\n",
            "  -4.70284313e-05]\n",
            " [ 2.11937421e-05 -1.78563508e-04 -4.68962711e-04  2.07918362e-04\n",
            "  -1.73645095e-01 -1.81232314e-04  2.93236107e-05  7.03084197e-05\n",
            "  -3.64519104e-06]\n",
            " [-2.48769726e-04 -5.92992113e-04 -2.66590678e-04  6.59014019e-04\n",
            "  -3.71461674e-01  3.11553772e-04 -9.60965543e-04  8.79990595e-04\n",
            "   4.79348702e-04]\n",
            " [-8.89364394e-05  3.26271677e-05  3.50289281e-04 -1.55081020e-04\n",
            "   4.00522258e-02 -7.41352589e-05  2.91932590e-04 -8.94671945e-04\n",
            "   4.01414383e-04]]\n"
          ]
        },
        {
          "output_type": "stream",
          "name": "stderr",
          "text": [
            "/usr/local/lib/python3.11/dist-packages/sklearn/linear_model/_logistic.py:1256: FutureWarning: 'multi_class' was deprecated in version 1.5 and will be removed in 1.7. Use OneVsRestClassifier(LogisticRegression(..)) instead. Leave it to its default value to avoid this warning.\n",
            "  warnings.warn(\n"
          ]
        }
      ]
    },
    {
      "cell_type": "markdown",
      "source": [
        "6/ Write a Python program to apply GridSearchCV to tune the hyperparameters (C and penalty) of Logistic\n",
        "Regression. Print the best parameters and accuracy."
      ],
      "metadata": {
        "id": "Sk5lZMqIJskq"
      }
    },
    {
      "cell_type": "code",
      "source": [
        "import pandas as pd\n",
        "from sklearn.model_selection import train_test_split, GridSearchCV\n",
        "from sklearn.linear_model import LogisticRegression\n",
        "from sklearn.metrics import accuracy_score\n",
        "from sklearn.preprocessing import LabelEncoder\n",
        "\n",
        "\n",
        "data = pd.read_csv('/content/drive/MyDrive/Copy of People Data.csv')\n",
        "\n",
        "X = data.drop('Salary', axis=1)\n",
        "y = data['Salary']\n",
        "\n",
        "label_encoder = LabelEncoder()\n",
        "\n",
        "for col in X.columns:\n",
        "    if X[col].dtype == 'object':\n",
        "        X[col] = label_encoder.fit_transform(X[col])\n",
        "\n",
        "X_train, X_test, y_train, y_test = train_test_split(X, y, test_size=0.2, random_state=42)\n",
        "\n",
        "\n",
        "param_grid = {\n",
        "    'C': [0.1, 1, 10, 100],\n",
        "    'penalty': ['l1', 'l2']\n",
        "}\n",
        "\n",
        "\n",
        "model = LogisticRegression(solver='saga', max_iter=10000)\n",
        "\n",
        "\n",
        "grid_search = GridSearchCV(model, param_grid, cv=5, scoring='accuracy')\n",
        "\n",
        "\n",
        "grid_search.fit(X_train, y_train)\n",
        "\n",
        "\n",
        "best_params = grid_search.best_params_\n",
        "best_accuracy = grid_search.best_score_\n",
        "\n",
        "\n",
        "print(\"Best Parameters:\", best_params)\n",
        "print(\"Best Accuracy:\", best_accuracy)\n",
        "\n",
        "best_model = grid_search.best_estimator_\n",
        "y_pred = best_model.predict(X_test)\n",
        "test_accuracy = accuracy_score(y_test, y_pred)\n",
        "print(\"Test Accuracy:\", test_accuracy)"
      ],
      "metadata": {
        "colab": {
          "base_uri": "https://localhost:8080/"
        },
        "id": "KABMcqiYJoU5",
        "outputId": "8ddfcad7-44bf-47ed-9ae1-f888c34bf886"
      },
      "execution_count": null,
      "outputs": [
        {
          "output_type": "stream",
          "name": "stdout",
          "text": [
            "Best Parameters: {'C': 0.1, 'penalty': 'l2'}\n",
            "Best Accuracy: 0.11624999999999999\n",
            "Test Accuracy: 0.135\n"
          ]
        }
      ]
    },
    {
      "cell_type": "markdown",
      "source": [
        "7/ Write a Python program to evaluate Logistic Regression using Stratified K-Fold Cross-Validation. Print the\n",
        "average accuracy."
      ],
      "metadata": {
        "id": "JTQh9KzlJtOG"
      }
    },
    {
      "cell_type": "code",
      "source": [
        "import pandas as pd\n",
        "from sklearn.model_selection import StratifiedKFold\n",
        "from sklearn.linear_model import LogisticRegression\n",
        "from sklearn.metrics import accuracy_score\n",
        "from sklearn.preprocessing import LabelEncoder\n",
        "\n",
        "\n",
        "data = pd.read_csv('/content/drive/MyDrive/Copy of People Data.csv')\n",
        "\n",
        "\n",
        "X = data.drop('Salary', axis=1)\n",
        "y = data['Salary']\n",
        "\n",
        "# Initialize LabelEncoder\n",
        "label_encoder = LabelEncoder()\n",
        "\n",
        "\n",
        "for col in X.columns:\n",
        "    if X[col].dtype == 'object':\n",
        "        X[col] = label_encoder.fit_transform(X[col])\n",
        "\n",
        "\n",
        "skf = StratifiedKFold(n_splits=5, random_state=42, shuffle=True)\n",
        "\n",
        "\n",
        "accuracy_scores = []\n",
        "\n",
        "\n",
        "for train_index, test_index in skf.split(X, y):\n",
        "    X_train, X_test = X.iloc[train_index], X.iloc[test_index]\n",
        "    y_train, y_test = y.iloc[train_index], y.iloc[test_index]\n",
        "\n",
        "\n",
        "    model = LogisticRegression(solver='liblinear')\n",
        "\n",
        "\n",
        "    model.fit(X_train, y_train)\n",
        "\n",
        "    y_pred = model.predict(X_test)\n",
        "\n",
        "\n",
        "    accuracy = accuracy_score(y_test, y_pred)\n",
        "    accuracy_scores.append(accuracy)\n",
        "\n",
        "\n",
        "average_accuracy = sum(accuracy_scores) / len(accuracy_scores)\n",
        "print(f\"Average Accuracy: {average_accuracy}\")"
      ],
      "metadata": {
        "colab": {
          "base_uri": "https://localhost:8080/"
        },
        "id": "n5azVIvWJt0m",
        "outputId": "40b4ab68-d7a1-4e93-8991-8270aa71f1ec"
      },
      "execution_count": null,
      "outputs": [
        {
          "output_type": "stream",
          "name": "stdout",
          "text": [
            "Average Accuracy: 0.11099999999999999\n"
          ]
        }
      ]
    },
    {
      "cell_type": "markdown",
      "source": [
        "8/ Write a Python program to apply RandomizedSearchCV for tuning hyperparameters (C, penalty, solver) in\n",
        "Logistic Regression. Print the best parameters and accuracy."
      ],
      "metadata": {
        "id": "_mACLue-JuYg"
      }
    },
    {
      "cell_type": "code",
      "source": [
        "import pandas as pd\n",
        "from sklearn.model_selection import train_test_split, RandomizedSearchCV\n",
        "from sklearn.linear_model import LogisticRegression\n",
        "from sklearn.metrics import accuracy_score\n",
        "from sklearn.preprocessing import LabelEncoder\n",
        "import numpy as np\n",
        "\n",
        "data = pd.read_csv('/content/drive/MyDrive/Copy of People Data.csv')\n",
        "\n",
        "X = data.drop('Salary', axis=1)\n",
        "y = data['Salary']\n",
        "\n",
        "label_encoder = LabelEncoder()\n",
        "\n",
        "for col in X.columns:\n",
        "    if X[col].dtype == 'object':\n",
        "        X[col] = label_encoder.fit_transform(X[col])\n",
        "\n",
        "\n",
        "X_train, X_test, y_train, y_test = train_test_split(X, y, test_size=0.2, random_state=42)\n",
        "\n",
        "param_dist = {\n",
        "    'C': np.logspace(-4, 4, 20),\n",
        "    'penalty': ['l1', 'l2'],\n",
        "    'solver': ['liblinear', 'saga']\n",
        "}\n",
        "\n",
        "model = LogisticRegression(max_iter=10000)\n",
        "\n",
        "random_search = RandomizedSearchCV(\n",
        "    model, param_distributions=param_dist, n_iter=10, cv=5, scoring='accuracy', random_state=42\n",
        ")\n",
        "\n",
        "\n",
        "random_search.fit(X_train, y_train)\n",
        "\n",
        "\n",
        "best_params = random_search.best_params_\n",
        "best_accuracy = random_search.best_score_\n",
        "\n",
        "print(\"Best Parameters:\", best_params)\n",
        "print(\"Best Accuracy:\", best_accuracy)\n",
        "\n",
        "best_model = random_search.best_estimator_\n",
        "y_pred = best_model.predict(X_test)\n",
        "test_accuracy = accuracy_score(y_test, y_pred)\n",
        "print(\"Test Accuracy:\", test_accuracy)"
      ],
      "metadata": {
        "colab": {
          "base_uri": "https://localhost:8080/"
        },
        "id": "l-xD2V5HJu06",
        "outputId": "418ab00c-e5e4-48fc-81e3-6222221be7b1"
      },
      "execution_count": null,
      "outputs": [
        {
          "output_type": "stream",
          "name": "stdout",
          "text": [
            "Best Parameters: {'solver': 'liblinear', 'penalty': 'l2', 'C': 1438.44988828766}\n",
            "Best Accuracy: 0.1325\n",
            "Test Accuracy: 0.12\n"
          ]
        }
      ]
    },
    {
      "cell_type": "markdown",
      "source": [
        "9/  Write a Python program to train a Logistic Regression model on imbalanced data and apply class weights to\n",
        "improve model performance."
      ],
      "metadata": {
        "id": "549hJv2M__yw"
      }
    },
    {
      "cell_type": "code",
      "source": [
        "import pandas as pd\n",
        "from sklearn.model_selection import train_test_split\n",
        "from sklearn.linear_model import LogisticRegression\n",
        "from sklearn.metrics import accuracy_score, classification_report\n",
        "from sklearn.preprocessing import LabelEncoder\n",
        "\n",
        "data = pd.read_csv('/content/drive/MyDrive/Copy of People Data.csv')\n",
        "\n",
        "X = data.drop('Salary', axis=1)\n",
        "y = data['Salary']\n",
        "\n",
        "label_encoder = LabelEncoder()\n",
        "\n",
        "for col in X.columns:\n",
        "    if X[col].dtype == 'object':\n",
        "        X[col] = label_encoder.fit_transform(X[col])\n",
        "\n",
        "X_train, X_test, y_train, y_test = train_test_split(X, y, test_size=0.2, random_state=42)\n",
        "\n",
        "\n",
        "model = LogisticRegression(class_weight='balanced', solver='liblinear')\n",
        "\n",
        "\n",
        "model.fit(X_train, y_train)\n",
        "\n",
        "y_pred = model.predict(X_test)\n",
        "\n",
        "accuracy = accuracy_score(y_test, y_pred)\n",
        "print(f\"Accuracy: {accuracy}\")\n",
        "\n",
        "print(classification_report(y_test, y_pred))"
      ],
      "metadata": {
        "id": "-fIKGeULLqLC",
        "colab": {
          "base_uri": "https://localhost:8080/"
        },
        "outputId": "0c37be5d-ff7e-419f-dc4f-2c26ad4a31bb"
      },
      "execution_count": 1,
      "outputs": [
        {
          "output_type": "stream",
          "name": "stdout",
          "text": [
            "Accuracy: 0.11\n",
            "              precision    recall  f1-score   support\n",
            "\n",
            "       50000       0.14      0.07      0.09        30\n",
            "       60000       0.14      0.14      0.14        36\n",
            "       65000       0.02      0.05      0.03        21\n",
            "       70000       0.12      0.20      0.15        20\n",
            "       80000       0.00      0.00      0.00        17\n",
            "       85000       0.43      0.11      0.18        27\n",
            "       90000       0.08      0.13      0.10        23\n",
            "      100000       0.16      0.15      0.16        26\n",
            "\n",
            "    accuracy                           0.11       200\n",
            "   macro avg       0.14      0.11      0.11       200\n",
            "weighted avg       0.15      0.11      0.11       200\n",
            "\n"
          ]
        }
      ]
    },
    {
      "cell_type": "markdown",
      "source": [
        "10/ Write a Python program to train Logistic Regression on the Titanic dataset, handle missing values, and\n",
        "evaluate performance."
      ],
      "metadata": {
        "id": "DHko7IPhAuUL"
      }
    },
    {
      "cell_type": "code",
      "source": [
        "import pandas as pd\n",
        "from sklearn.model_selection import train_test_split\n",
        "from sklearn.linear_model import LogisticRegression\n",
        "from sklearn.metrics import accuracy_score, classification_report\n",
        "from sklearn.impute import SimpleImputer\n",
        "from sklearn.preprocessing import LabelEncoder\n",
        "\n",
        "titanic_data = pd.read_csv('/content/drive/MyDrive/titanic .csv')\n",
        "\n",
        "\n",
        "features = ['Pclass', 'Sex', 'Age', 'SibSp', 'Parch', 'Fare', 'Embarked']\n",
        "target = 'Survived'\n",
        "X = titanic_data[features]\n",
        "y = titanic_data[target]\n",
        "\n",
        "\n",
        "imputer = SimpleImputer(strategy='mean')\n",
        "X_imputed = imputer.fit_transform(X[['Age', 'Fare']])\n",
        "X[['Age', 'Fare']] = X_imputed\n",
        "\n",
        "# Convert categorical features to numerical using LabelEncoder\n",
        "label_encoder = LabelEncoder()\n",
        "X['Sex'] = label_encoder.fit_transform(X['Sex'])\n",
        "X['Embarked'] = label_encoder.fit_transform(X['Embarked'].astype(str))\n",
        "\n",
        "\n",
        "X_train, X_test, y_train, y_test = train_test_split(X, y, test_size=0.2, random_state=42)\n",
        "\n",
        "# Create and train the Logistic Regression model\n",
        "model = LogisticRegression(solver='liblinear')\n",
        "model.fit(X_train, y_train)\n",
        "\n",
        "\n",
        "y_pred = model.predict(X_test)\n",
        "\n",
        "accuracy = accuracy_score(y_test, y_pred)\n",
        "print(f\"Accuracy: {accuracy}\")\n",
        "print(classification_report(y_test, y_pred))"
      ],
      "metadata": {
        "colab": {
          "base_uri": "https://localhost:8080/"
        },
        "id": "3Cq9YbebCIVh",
        "outputId": "187c2179-a33f-4a61-9753-10ce451bd165"
      },
      "execution_count": 4,
      "outputs": [
        {
          "output_type": "stream",
          "name": "stdout",
          "text": [
            "Accuracy: 1.0\n",
            "              precision    recall  f1-score   support\n",
            "\n",
            "           0       1.00      1.00      1.00        50\n",
            "           1       1.00      1.00      1.00        34\n",
            "\n",
            "    accuracy                           1.00        84\n",
            "   macro avg       1.00      1.00      1.00        84\n",
            "weighted avg       1.00      1.00      1.00        84\n",
            "\n"
          ]
        },
        {
          "output_type": "stream",
          "name": "stderr",
          "text": [
            "<ipython-input-4-45ba8329e69f>:20: SettingWithCopyWarning: \n",
            "A value is trying to be set on a copy of a slice from a DataFrame.\n",
            "Try using .loc[row_indexer,col_indexer] = value instead\n",
            "\n",
            "See the caveats in the documentation: https://pandas.pydata.org/pandas-docs/stable/user_guide/indexing.html#returning-a-view-versus-a-copy\n",
            "  X[['Age', 'Fare']] = X_imputed\n",
            "<ipython-input-4-45ba8329e69f>:24: SettingWithCopyWarning: \n",
            "A value is trying to be set on a copy of a slice from a DataFrame.\n",
            "Try using .loc[row_indexer,col_indexer] = value instead\n",
            "\n",
            "See the caveats in the documentation: https://pandas.pydata.org/pandas-docs/stable/user_guide/indexing.html#returning-a-view-versus-a-copy\n",
            "  X['Sex'] = label_encoder.fit_transform(X['Sex'])\n",
            "<ipython-input-4-45ba8329e69f>:25: SettingWithCopyWarning: \n",
            "A value is trying to be set on a copy of a slice from a DataFrame.\n",
            "Try using .loc[row_indexer,col_indexer] = value instead\n",
            "\n",
            "See the caveats in the documentation: https://pandas.pydata.org/pandas-docs/stable/user_guide/indexing.html#returning-a-view-versus-a-copy\n",
            "  X['Embarked'] = label_encoder.fit_transform(X['Embarked'].astype(str))\n"
          ]
        }
      ]
    },
    {
      "cell_type": "markdown",
      "source": [
        "11/ Write a Python program to apply feature scaling (Standardization) before training a Logistic Regression\n",
        "model. Evaluate its accuracy and compare results with and without scaling."
      ],
      "metadata": {
        "id": "ZbLau608FPei"
      }
    },
    {
      "cell_type": "code",
      "source": [
        "import pandas as pd\n",
        "from sklearn.model_selection import train_test_split\n",
        "from sklearn.linear_model import LogisticRegression\n",
        "from sklearn.metrics import accuracy_score\n",
        "from sklearn.preprocessing import StandardScaler, LabelEncoder\n",
        "\n",
        "\n",
        "data = pd.read_csv('/content/drive/MyDrive/Copy of People Data.csv')\n",
        "\n",
        "\n",
        "X = data.drop('Salary', axis=1)\n",
        "y = data['Salary']\n",
        "\n",
        "\n",
        "label_encoder = LabelEncoder()\n",
        "\n",
        "# Iterate through columns and encode string columns\n",
        "for col in X.columns:\n",
        "    if X[col].dtype == 'object':\n",
        "        X[col] = label_encoder.fit_transform(X[col])\n",
        "\n",
        "\n",
        "X_train, X_test, y_train, y_test = train_test_split(X, y, test_size=0.2, random_state=42)\n",
        "\n",
        "# Train and evaluate without scaling\n",
        "model_no_scaling = LogisticRegression(solver='liblinear')\n",
        "model_no_scaling.fit(X_train, y_train)\n",
        "y_pred_no_scaling = model_no_scaling.predict(X_test)\n",
        "accuracy_no_scaling = accuracy_score(y_test, y_pred_no_scaling)\n",
        "print(f\"Accuracy without scaling: {accuracy_no_scaling}\")\n",
        "\n",
        "scaler = StandardScaler()\n",
        "X_train_scaled = scaler.fit_transform(X_train)\n",
        "X_test_scaled = scaler.transform(X_test)\n",
        "\n",
        "model_scaling = LogisticRegression(solver='liblinear')\n",
        "model_scaling.fit(X_train_scaled, y_train)\n",
        "y_pred_scaling = model_scaling.predict(X_test_scaled)\n",
        "accuracy_scaling = accuracy_score(y_test, y_pred_scaling)\n",
        "print(f\"Accuracy with scaling: {accuracy_scaling}\")\n",
        "\n",
        "print(f\"Difference in accuracy: {accuracy_scaling - accuracy_no_scaling}\")"
      ],
      "metadata": {
        "colab": {
          "base_uri": "https://localhost:8080/"
        },
        "id": "Mh2fWiz6CWRq",
        "outputId": "d48d430a-4f83-462d-8ad2-a3d60deb36e7"
      },
      "execution_count": 5,
      "outputs": [
        {
          "output_type": "stream",
          "name": "stdout",
          "text": [
            "Accuracy without scaling: 0.135\n",
            "Accuracy with scaling: 0.12\n",
            "Difference in accuracy: -0.015000000000000013\n"
          ]
        }
      ]
    },
    {
      "cell_type": "markdown",
      "source": [
        "12/ Write a Python program to train Logistic Regression using a custom learning rate (C=0.5) and evaluate\n",
        "accuracy."
      ],
      "metadata": {
        "id": "h3ngutHrFRx-"
      }
    },
    {
      "cell_type": "code",
      "source": [
        "import pandas as pd\n",
        "from sklearn.model_selection import train_test_split\n",
        "from sklearn.linear_model import LogisticRegression\n",
        "from sklearn.metrics import accuracy_score\n",
        "from sklearn.preprocessing import LabelEncoder\n",
        "\n",
        "data = pd.read_csv('/content/drive/MyDrive/Copy of People Data.csv')\n",
        "\n",
        "\n",
        "X = data.drop('Salary', axis=1)\n",
        "y = data['Salary']\n",
        "\n",
        "label_encoder = LabelEncoder()\n",
        "\n",
        "for col in X.columns:\n",
        "    if X[col].dtype == 'object':\n",
        "        X[col] = label_encoder.fit_transform(X[col])\n",
        "\n",
        "X_train, X_test, y_train, y_test = train_test_split(X, y, test_size=0.2, random_state=42)\n",
        "\n",
        "\n",
        "model = LogisticRegression(C=0.5, solver='liblinear')\n",
        "\n",
        "\n",
        "model.fit(X_train, y_train)\n",
        "\n",
        "\n",
        "y_pred = model.predict(X_test)\n",
        "\n",
        "accuracy = accuracy_score(y_test, y_pred)\n",
        "print(f\"Accuracy: {accuracy}\")"
      ],
      "metadata": {
        "colab": {
          "base_uri": "https://localhost:8080/"
        },
        "id": "_rc76FE5GT-v",
        "outputId": "536eea29-e356-42b6-9b18-d5ab5d2a602f"
      },
      "execution_count": 8,
      "outputs": [
        {
          "output_type": "stream",
          "name": "stdout",
          "text": [
            "Accuracy: 0.125\n"
          ]
        }
      ]
    },
    {
      "cell_type": "markdown",
      "source": [
        "13/ M Write a Python program to train Logistic Regression and identify important features based on model\n",
        "coefficients."
      ],
      "metadata": {
        "id": "ShnFbA7BGxKP"
      }
    },
    {
      "cell_type": "code",
      "source": [
        "import pandas as pd\n",
        "from sklearn.model_selection import train_test_split\n",
        "from sklearn.linear_model import LogisticRegression\n",
        "from sklearn.preprocessing import LabelEncoder\n",
        "\n",
        "\n",
        "data = pd.read_csv('/content/drive/MyDrive/Copy of People Data.csv')\n",
        "\n",
        "X = data.drop('Salary', axis=1)\n",
        "y = data['Salary']\n",
        "\n",
        "label_encoder = LabelEncoder()\n",
        "\n",
        "for col in X.columns:\n",
        "    if X[col].dtype == 'object':\n",
        "        X[col] = label_encoder.fit_transform(X[col])\n",
        "\n",
        "\n",
        "X_train, X_test, y_train, y_test = train_test_split(X, y, test_size=0.2, random_state=42)\n",
        "\n",
        "model = LogisticRegression(solver='liblinear')\n",
        "\n",
        "\n",
        "model.fit(X_train, y_train)\n",
        "importance = model.coef_[0]\n",
        "\n",
        "feature_importance = dict(zip(X.columns, importance))\n",
        "\n",
        "sorted_features = sorted(feature_importance.items(), key=lambda item: abs(item[1]), reverse=True)\n",
        "print(\"Important Features:\")\n",
        "for feature, importance_score in sorted_features:\n",
        "    print(f\"{feature}: {importance_score}\")"
      ],
      "metadata": {
        "colab": {
          "base_uri": "https://localhost:8080/"
        },
        "id": "qUlods80Gt2x",
        "outputId": "03001b5c-0c38-420e-dd8f-ff4632397824"
      },
      "execution_count": 9,
      "outputs": [
        {
          "output_type": "stream",
          "name": "stdout",
          "text": [
            "Important Features:\n",
            "Gender: 0.07717330685449007\n",
            "Job Title: 0.0005220433281155404\n",
            "Last Name: -0.0005077674531295302\n",
            "Phone: 0.0003740158916877357\n",
            "Email: -0.0003298720131429064\n",
            "Date of birth: -0.0001870538139749503\n",
            "First Name: -0.00011099833888477583\n",
            "Index: -2.653057603104962e-05\n",
            "User Id: 2.2427809771419085e-05\n"
          ]
        }
      ]
    },
    {
      "cell_type": "markdown",
      "source": [
        "14/ Write a Python program to train Logistic Regression and evaluate its performance using Cohen’s Kappa\n",
        "Score."
      ],
      "metadata": {
        "id": "PuwKPc05GzVm"
      }
    },
    {
      "cell_type": "code",
      "source": [
        "import pandas as pd\n",
        "from sklearn.model_selection import train_test_split\n",
        "from sklearn.linear_model import LogisticRegression\n",
        "from sklearn.metrics import cohen_kappa_score\n",
        "from sklearn.preprocessing import LabelEncoder\n",
        "\n",
        "data = pd.read_csv('/content/drive/MyDrive/Copy of People Data.csv')\n",
        "X = data.drop('Salary', axis=1)\n",
        "y = data['Salary']\n",
        "\n",
        "label_encoder = LabelEncoder()\n",
        "\n",
        "for col in X.columns:\n",
        "    if X[col].dtype == 'object':\n",
        "        X[col] = label_encoder.fit_transform(X[col])\n",
        "\n",
        "\n",
        "X_train, X_test, y_train, y_test = train_test_split(X, y, test_size=0.2, random_state=42)\n",
        "model = LogisticRegression(solver='liblinear')\n",
        "\n",
        "model.fit(X_train, y_train)\n",
        "y_pred = model.predict(X_test)\n",
        "kappa_score = cohen_kappa_score(y_test, y_pred)\n",
        "\n",
        "print(f\"Cohen's Kappa Score: {kappa_score}\")"
      ],
      "metadata": {
        "colab": {
          "base_uri": "https://localhost:8080/"
        },
        "id": "R92gsj9sGz1K",
        "outputId": "25eb1af8-d3f8-4a1e-a37b-32152c38881e"
      },
      "execution_count": 10,
      "outputs": [
        {
          "output_type": "stream",
          "name": "stdout",
          "text": [
            "Cohen's Kappa Score: -0.006691882455629683\n"
          ]
        }
      ]
    },
    {
      "cell_type": "markdown",
      "source": [
        "15/ Write a Python program to train Logistic Regression on both raw and standardized data. Compare their\n",
        "accuracy to see the impact of feature scaling."
      ],
      "metadata": {
        "id": "aFN-AMl2G0Up"
      }
    },
    {
      "cell_type": "code",
      "source": [
        "import pandas as pd\n",
        "from sklearn.model_selection import train_test_split\n",
        "from sklearn.linear_model import LogisticRegression\n",
        "from sklearn.metrics import accuracy_score\n",
        "from sklearn.preprocessing import StandardScaler, LabelEncoder\n",
        "\n",
        "data = pd.read_csv('/content/drive/MyDrive/Copy of People Data.csv')\n",
        "\n",
        "X = data.drop('Salary', axis=1)\n",
        "y = data['Salary']\n",
        "\n",
        "label_encoder = LabelEncoder()\n",
        "\n",
        "for col in X.columns:\n",
        "    if X[col].dtype == 'object':\n",
        "        X[col] = label_encoder.fit_transform(X[col])\n",
        "\n",
        "X_train, X_test, y_train, y_test = train_test_split(X, y, test_size=0.2, random_state=42)\n",
        "model_raw = LogisticRegression(solver='liblinear')\n",
        "model_raw.fit(X_train, y_train)\n",
        "y_pred_raw = model_raw.predict(X_test)\n",
        "accuracy_raw = accuracy_score(y_test, y_pred_raw)\n",
        "print(f\"Accuracy on raw data: {accuracy_raw}\")\n",
        "\n",
        "scaler = StandardScaler()\n",
        "X_train_scaled = scaler.fit_transform(X_train)\n",
        "X_test_scaled = scaler.transform(X_test)\n",
        "model_scaled = LogisticRegression(solver='liblinear')\n",
        "model_scaled.fit(X_train_scaled, y_train)\n",
        "y_pred_scaled = model_scaled.predict(X_test_scaled)\n",
        "accuracy_scaled = accuracy_score(y_test, y_pred_scaled)\n",
        "print(f\"Accuracy on standardized data: {accuracy_scaled}\")\n",
        "\n",
        "# Compare results\n",
        "print(f\"Difference in accuracy: {accuracy_scaled - accuracy_raw}\")"
      ],
      "metadata": {
        "colab": {
          "base_uri": "https://localhost:8080/"
        },
        "id": "ejijGmZZG0xl",
        "outputId": "f184e5ec-6e29-4cec-801f-9efcc4af062b"
      },
      "execution_count": 11,
      "outputs": [
        {
          "output_type": "stream",
          "name": "stdout",
          "text": [
            "Accuracy on raw data: 0.135\n",
            "Accuracy on standardized data: 0.12\n",
            "Difference in accuracy: -0.015000000000000013\n"
          ]
        }
      ]
    },
    {
      "cell_type": "markdown",
      "source": [
        "16/ Write a Python program to train Logistic Regression, save the trained model using joblib, and load it again to\n",
        "make predictions."
      ],
      "metadata": {
        "id": "5HLEyzHKIKuv"
      }
    },
    {
      "cell_type": "code",
      "source": [
        "import pandas as pd\n",
        "from sklearn.model_selection import train_test_split\n",
        "from sklearn.linear_model import LogisticRegression\n",
        "from sklearn.metrics import accuracy_score\n",
        "import joblib\n",
        "from sklearn.preprocessing import LabelEncoder\n",
        "\n",
        "data = pd.read_csv('/content/drive/MyDrive/Copy of People Data.csv')\n",
        "\n",
        "X = data.drop('Salary', axis=1)\n",
        "y = data['Salary']\n",
        "\n",
        "label_encoder = LabelEncoder()\n",
        "\n",
        "for col in X.columns:\n",
        "    if X[col].dtype == 'object':\n",
        "        X[col] = label_encoder.fit_transform(X[col])\n",
        "\n",
        "X_train, X_test, y_train, y_test = train_test_split(X, y, test_size=0.2, random_state=42)\n",
        "\n",
        "model = LogisticRegression(solver='liblinear')\n",
        "model.fit(X_train, y_train)\n",
        "\n",
        "joblib.dump(model, 'logistic_regression_model.pkl')\n",
        "\n",
        "loaded_model = joblib.load('logistic_regression_model.pkl')\n",
        "\n",
        "y_pred = loaded_model.predict(X_test)\n",
        "\n",
        "accuracy = accuracy_score(y_test, y_pred)\n",
        "print(f\"Accuracy: {accuracy}\")"
      ],
      "metadata": {
        "colab": {
          "base_uri": "https://localhost:8080/"
        },
        "id": "PONLOcBaID75",
        "outputId": "bf5aab68-df78-4a73-d2b8-523a3d262113"
      },
      "execution_count": 12,
      "outputs": [
        {
          "output_type": "stream",
          "name": "stdout",
          "text": [
            "Accuracy: 0.135\n"
          ]
        }
      ]
    }
  ]
}